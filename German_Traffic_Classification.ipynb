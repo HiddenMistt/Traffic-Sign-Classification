{
  "nbformat": 4,
  "nbformat_minor": 0,
  "metadata": {
    "colab": {
      "name": "German Traffic Classification.ipynb",
      "provenance": [],
      "mount_file_id": "19mmh73hvpbIlj5lw719eM-y1ZtcMZ703",
      "authorship_tag": "ABX9TyNu1KR/XKAANu8ahtCrVrwN"
    },
    "kernelspec": {
      "name": "python3",
      "display_name": "Python 3"
    },
    "language_info": {
      "name": "python"
    }
  },
  "cells": [
    {
      "cell_type": "markdown",
      "metadata": {
        "id": "hmcfUIQXjHEd"
      },
      "source": [
        "Importing libraries"
      ]
    },
    {
      "cell_type": "code",
      "metadata": {
        "id": "pNpcmWw9fiAL"
      },
      "source": [
        "import numpy as np\n",
        "import matplotlib.pyplot as plt\n",
        "import keras\n",
        "from keras.models import Sequential\n",
        "from keras.layers import Dense, Dropout, Flatten\n",
        "from keras.layers.convolutional import Conv2D, MaxPooling2D\n",
        "from keras.optimizers import Adam\n",
        "from keras.utils.np_utils import to_categorical\n",
        "from keras.preprocessing.image import ImageDataGenerator\n",
        "import pickle\n",
        "import pandas as pd\n",
        "import random\n",
        "import cv2\n"
      ],
      "execution_count": null,
      "outputs": []
    },
    {
      "cell_type": "code",
      "metadata": {
        "colab": {
          "base_uri": "https://localhost:8080/"
        },
        "id": "AVolcsCVfna0",
        "outputId": "88f1e919-4c61-4afa-e405-d281423fd2a9"
      },
      "source": [
        "# Read data\n",
        "data = pd.read_csv(\"/content/drive/MyDrive/Colab Notebooks/german-traffic-signs/signnames.csv\")\n",
        "\n",
        "with open('/content/drive/MyDrive/Colab Notebooks/german-traffic-signs/train.p', 'rb') as f:\n",
        "\ttrain_data = pickle.load(f)\n",
        "with open('/content/drive/MyDrive/Colab Notebooks/german-traffic-signs/valid.p', 'rb') as f:\n",
        "\tval_data = pickle.load(f)\n",
        "with open('/content/drive/MyDrive/Colab Notebooks/german-traffic-signs/test.p', 'rb') as f:\n",
        "\ttest_data = pickle.load(f)\n",
        "\n",
        "# Extracting the labels from the dictionaries\n",
        "X_train, y_train = train_data['features'], train_data['labels']\n",
        "X_val, y_val = val_data['features'], val_data['labels']\n",
        "X_test, y_test = test_data['features'], test_data['labels']\n",
        "\n",
        "# Printing the shapes\n",
        "print(X_train.shape)\n",
        "print(X_val.shape)\n",
        "print(X_test.shape)\n"
      ],
      "execution_count": null,
      "outputs": [
        {
          "output_type": "stream",
          "text": [
            "(34799, 32, 32, 3)\n",
            "(4410, 32, 32, 3)\n",
            "(12630, 32, 32, 3)\n"
          ],
          "name": "stdout"
        }
      ]
    },
    {
      "cell_type": "markdown",
      "metadata": {
        "id": "CF6iUQYujQrD"
      },
      "source": [
        "Preprocessing using OpenCV\n",
        "\n",
        "\n",
        "*   First, the images are converted to grayscale images for reducing computation using the cvtColor() function.\n",
        "\n",
        "*   The equalizeHist() function increases the contrasts of the image by equalizing the intensities of the pixels by normalizing them with their nearby pixels.\n",
        " \n",
        "*   At the end, we normalize the pixel values between 0 and 1 by dividing them by 255.\n",
        "\n"
      ]
    },
    {
      "cell_type": "code",
      "metadata": {
        "id": "_cHxH3MhfuAJ"
      },
      "source": [
        "def preprocessing(img):\n",
        "\timg = cv2.cvtColor(img, cv2.COLOR_BGR2GRAY)\n",
        "\timg = cv2.equalizeHist(img)\n",
        "\timg = img / 255\n",
        "\treturn img\n",
        "\n",
        "X_train = np.array(list(map(preprocessing, X_train)))\n",
        "X_val = np.array(list(map(preprocessing, X_val)))\n",
        "X_test = np.array(list(map(preprocessing, X_test)))\n",
        "\n",
        "X_train = X_train.reshape(34799, 32, 32, 1)\n",
        "X_val = X_val.reshape(4410, 32, 32, 1)\n",
        "X_test = X_test.reshape(12630, 32, 32, 1)\n"
      ],
      "execution_count": null,
      "outputs": []
    },
    {
      "cell_type": "markdown",
      "metadata": {
        "id": "O30UXIZgju3t"
      },
      "source": [
        "Augmentation"
      ]
    },
    {
      "cell_type": "code",
      "metadata": {
        "id": "h72dfQi5iuk6"
      },
      "source": [
        "datagen = ImageDataGenerator(width_shift_range = 0.1,\n",
        "\t\t\t\theight_shift_range = 0.1,\n",
        "\t\t\t\tzoom_range = 0.2,\n",
        "\t\t\t\tshear_range = 0.1,\n",
        "\t\t\t\trotation_range = 10)\n",
        "datagen.fit(X_train)\n",
        "\n",
        "y_train = to_categorical(y_train, 43)\n",
        "y_val = to_categorical(y_val, 43)\n",
        "y_test = to_categorical(y_test, 43)\n"
      ],
      "execution_count": null,
      "outputs": []
    },
    {
      "cell_type": "markdown",
      "metadata": {
        "id": "7RS6gl0DjyjL"
      },
      "source": [
        "Building the Model"
      ]
    },
    {
      "cell_type": "code",
      "metadata": {
        "colab": {
          "base_uri": "https://localhost:8080/"
        },
        "id": "Y11ZFzRBiwjZ",
        "outputId": "b1c16f80-b942-47da-86b4-acc12858d95f"
      },
      "source": [
        "num_classes = 43\n",
        "\n",
        "def cnn_model():\n",
        "\tmodel = Sequential()\n",
        "\tmodel.add(Conv2D(60, (5, 5),\n",
        "\t\t\t\t\tinput_shape =(32, 32, 1),\n",
        "\t\t\t\t\tactivation ='relu'))\n",
        "\t\n",
        "\tmodel.add(Conv2D(60, (5, 5), activation ='relu'))\n",
        "\tmodel.add(MaxPooling2D(pool_size =(2, 2)))\n",
        "\t\n",
        "\tmodel.add(Conv2D(30, (3, 3), activation ='relu'))\n",
        "\tmodel.add(Conv2D(30, (3, 3), activation ='relu'))\n",
        "\tmodel.add(MaxPooling2D(pool_size =(2, 2)))\n",
        "\t\n",
        "\tmodel.add(Flatten())\n",
        "\tmodel.add(Dense(500, activation ='relu'))\n",
        "\tmodel.add(Dropout(0.5))\n",
        "\tmodel.add(Dense(num_classes, activation ='softmax'))\n",
        "\t\n",
        "\t# Compile model\n",
        "\tmodel.compile(Adam(lr = 0.001),\n",
        "\t\t\t\tloss ='categorical_crossentropy',\n",
        "\t\t\t\tmetrics =['accuracy'])\n",
        "\treturn model\n",
        "\n",
        "model = cnn_model()\n",
        "history = model.fit_generator(datagen.flow(X_train, y_train,\n",
        "\t\t\t\t\t\t\tbatch_size = 32), steps_per_epoch = 550,\n",
        "\t\t\t\t\t\t\tepochs = 10, validation_data =(X_val, y_val),\n",
        "\t\t\t\t\t\t\tshuffle = 1)\n"
      ],
      "execution_count": null,
      "outputs": [
        {
          "output_type": "stream",
          "text": [
            "/usr/local/lib/python3.7/dist-packages/tensorflow/python/keras/engine/training.py:1844: UserWarning: `Model.fit_generator` is deprecated and will be removed in a future version. Please use `Model.fit`, which supports generators.\n",
            "  warnings.warn('`Model.fit_generator` is deprecated and '\n"
          ],
          "name": "stderr"
        },
        {
          "output_type": "stream",
          "text": [
            "Epoch 1/10\n",
            "550/550 [==============================] - 150s 272ms/step - loss: 2.9025 - accuracy: 0.2189 - val_loss: 0.5474 - val_accuracy: 0.8345\n",
            "Epoch 2/10\n",
            "550/550 [==============================] - 150s 272ms/step - loss: 0.9983 - accuracy: 0.6951 - val_loss: 0.2316 - val_accuracy: 0.9324\n",
            "Epoch 3/10\n",
            "550/550 [==============================] - 150s 272ms/step - loss: 0.5871 - accuracy: 0.8214 - val_loss: 0.1350 - val_accuracy: 0.9578\n",
            "Epoch 4/10\n",
            "550/550 [==============================] - 149s 271ms/step - loss: 0.4336 - accuracy: 0.8637 - val_loss: 0.0856 - val_accuracy: 0.9728\n",
            "Epoch 5/10\n",
            "550/550 [==============================] - 149s 271ms/step - loss: 0.3589 - accuracy: 0.8907 - val_loss: 0.0904 - val_accuracy: 0.9723\n",
            "Epoch 6/10\n",
            "550/550 [==============================] - 149s 271ms/step - loss: 0.3022 - accuracy: 0.9038 - val_loss: 0.0682 - val_accuracy: 0.9800\n",
            "Epoch 7/10\n",
            "550/550 [==============================] - 149s 271ms/step - loss: 0.2551 - accuracy: 0.9193 - val_loss: 0.0932 - val_accuracy: 0.9703\n",
            "Epoch 8/10\n",
            "550/550 [==============================] - 150s 274ms/step - loss: 0.2370 - accuracy: 0.9243 - val_loss: 0.0648 - val_accuracy: 0.9830\n",
            "Epoch 9/10\n",
            "550/550 [==============================] - 149s 272ms/step - loss: 0.2280 - accuracy: 0.9296 - val_loss: 0.0477 - val_accuracy: 0.9868\n",
            "Epoch 10/10\n",
            "550/550 [==============================] - 149s 272ms/step - loss: 0.1907 - accuracy: 0.9387 - val_loss: 0.0575 - val_accuracy: 0.9828\n"
          ],
          "name": "stdout"
        }
      ]
    },
    {
      "cell_type": "markdown",
      "metadata": {
        "id": "1cu-H0ayj2nz"
      },
      "source": [
        "Plotting Loss Function"
      ]
    },
    {
      "cell_type": "code",
      "metadata": {
        "colab": {
          "base_uri": "https://localhost:8080/",
          "height": 313
        },
        "id": "1dnG9VKBiyZU",
        "outputId": "1baf853c-2068-4b66-ce19-2cee6905b9c7"
      },
      "source": [
        "plt.plot(history.history['loss'])\n",
        "plt.plot(history.history['val_loss'])\n",
        "plt.legend(['training', 'validation'])\n",
        "plt.title('Loss')\n",
        "plt.xlabel('epoch')\n"
      ],
      "execution_count": null,
      "outputs": [
        {
          "output_type": "execute_result",
          "data": {
            "text/plain": [
              "Text(0.5, 0, 'epoch')"
            ]
          },
          "metadata": {
            "tags": []
          },
          "execution_count": 13
        },
        {
          "output_type": "display_data",
          "data": {
            "image/png": "[encoded data removed]",
            "text/plain": [
              "<Figure size 432x288 with 1 Axes>"
            ]
          },
          "metadata": {
            "tags": [],
            "needs_background": "light"
          }
        }
      ]
    },
    {
      "cell_type": "markdown",
      "metadata": {
        "id": "VBJo-4Dtj-o4"
      },
      "source": [
        "Plotting Accuracy"
      ]
    },
    {
      "cell_type": "code",
      "metadata": {
        "colab": {
          "base_uri": "https://localhost:8080/",
          "height": 313
        },
        "id": "EpGFvdozi15P",
        "outputId": "f80d7060-3c0a-44ce-ae2c-86fdfdfcd6c4"
      },
      "source": [
        "plt.plot(history.history['accuracy'])\n",
        "plt.plot(history.history['val_accuracy'])\n",
        "plt.legend(['training', 'validation'])\n",
        "plt.title('Accuracy')\n",
        "plt.xlabel('epoch')\n"
      ],
      "execution_count": null,
      "outputs": [
        {
          "output_type": "execute_result",
          "data": {
            "text/plain": [
              "Text(0.5, 0, 'epoch')"
            ]
          },
          "metadata": {
            "tags": []
          },
          "execution_count": 16
        },
        {
          "output_type": "display_data",
          "data": {
            "image/png": "[encoded data removed]",
            "text/plain": [
              "<Figure size 432x288 with 1 Axes>"
            ]
          },
          "metadata": {
            "tags": [],
            "needs_background": "light"
          }
        }
      ]
    },
    {
      "cell_type": "code",
      "metadata": {
        "colab": {
          "base_uri": "https://localhost:8080/"
        },
        "id": "Ge4mmyGIi5B3",
        "outputId": "1caa275b-00d0-4986-d32b-011ed8c435ab"
      },
      "source": [
        "score = model.evaluate(X_test, y_test, verbose = 0)\n",
        "print('Test Loss: ', score[0])\n",
        "print('Test Accuracy: ', score[1])\n"
      ],
      "execution_count": null,
      "outputs": [
        {
          "output_type": "stream",
          "text": [
            "Test Loss:  0.15280142426490784\n",
            "Test Accuracy:  0.9559778571128845\n"
          ],
          "name": "stdout"
        }
      ]
    },
    {
      "cell_type": "markdown",
      "metadata": {
        "id": "91fOll8qkE2E"
      },
      "source": [
        "Checking one test image by feeding it into the model. The model gives a prediction of class 0 (Speed limit 20), which is correct."
      ]
    },
    {
      "cell_type": "code",
      "metadata": {
        "colab": {
          "base_uri": "https://localhost:8080/",
          "height": 339
        },
        "id": "Ml9hWaS8i64H",
        "outputId": "9dc7b4ba-0865-4e03-9e31-5d6698816b9c"
      },
      "source": [
        "plt.imshow(X_test[990].reshape(32, 32))\n",
        "print(\"Predicted sign: \"+ str(\n",
        "\t\tmodel.predict_classes(X_test[990].reshape(1, 32, 32, 1))))\n"
      ],
      "execution_count": null,
      "outputs": [
        {
          "output_type": "stream",
          "text": [
            "/usr/local/lib/python3.7/dist-packages/tensorflow/python/keras/engine/sequential.py:450: UserWarning: `model.predict_classes()` is deprecated and will be removed after 2021-01-01. Please use instead:* `np.argmax(model.predict(x), axis=-1)`,   if your model does multi-class classification   (e.g. if it uses a `softmax` last-layer activation).* `(model.predict(x) > 0.5).astype(\"int32\")`,   if your model does binary classification   (e.g. if it uses a `sigmoid` last-layer activation).\n",
            "  warnings.warn('`model.predict_classes()` is deprecated and '\n"
          ],
          "name": "stderr"
        },
        {
          "output_type": "stream",
          "text": [
            "Predicted sign: [0]\n"
          ],
          "name": "stdout"
        },
        {
          "output_type": "display_data",
          "data": {
            "image/png": "[encoded data removed]",
            "text/plain": [
              "<Figure size 432x288 with 1 Axes>"
            ]
          },
          "metadata": {
            "tags": [],
            "needs_background": "light"
          }
        }
      ]
    },
    {
      "cell_type": "code",
      "metadata": {
        "id": "FssEYlqei-S1"
      },
      "source": [
        ""
      ],
      "execution_count": null,
      "outputs": []
    }
  ]
}